{
 "cells": [
  {
   "cell_type": "markdown",
   "metadata": {},
   "source": [
    "# Python\n"
   ]
  },
  {
   "cell_type": "markdown",
   "metadata": {},
   "source": [
    "### Intro"
   ]
  },
  {
   "cell_type": "markdown",
   "metadata": {},
   "source": [
    "Nous voici sur Jupyter Notebook un logiciel 100% open-source.  \n",
    "C'est un environnement de calcul interactif basé sur une interface web.  \n",
    "Chaque cellule est independante mais conserve les variables déclarée au préalable,  \n",
    "elles peuvent contenir du code, du texte(brut) ou des markdown.  \n",
    "Executer une cellule se fait soit par le bouton ▶ soit par le raccourcis Ctrl+Enter ou Shift+Enter.  \n"
   ]
  },
  {
   "cell_type": "markdown",
   "metadata": {},
   "source": [
    "### Tips"
   ]
  },
  {
   "cell_type": "markdown",
   "metadata": {},
   "source": [
    "1) Lorsque vous séléctionnez une cellule, si le cadre est vert vous êtes en mode édition, si il est bleu vous êtes en mode sélection.\n",
    "\n",
    "En mode sélection : \n",
    "- tapez a pour créer nouvelle cellule au dessus\n",
    "- tapez b pour créer nouvelle cellule en dessous\n",
    "- tapez dd pour supprimer une cellule (vous pouvez réafficher la derniere cellule supprimée dans le menu Edit en haut)"
   ]
  },
  {
   "cell_type": "markdown",
   "metadata": {},
   "source": [
    "2) Il est possible grâce a \"!\" d'exécuter directement une commande dans le terminal dans le dossier courant depuis votre jupyter notebook\n",
    "- Tester les commandes suivantes:"
   ]
  },
  {
   "cell_type": "code",
   "execution_count": null,
   "metadata": {},
   "outputs": [],
   "source": [
    "!dir # -> windows\n",
    "#!ls -> linux/macOs"
   ]
  },
  {
   "cell_type": "markdown",
   "metadata": {},
   "source": [
    "- Installer une librairie directement du notebook"
   ]
  },
  {
   "cell_type": "code",
   "execution_count": null,
   "metadata": {},
   "outputs": [],
   "source": [
    "!pip install pandas \n"
   ]
  },
  {
   "cell_type": "markdown",
   "metadata": {},
   "source": [
    "- Importer la librairie"
   ]
  },
  {
   "cell_type": "code",
   "execution_count": 5,
   "metadata": {},
   "outputs": [],
   "source": [
    "import pandas as pd # si la cellule s'execute sans rien retourner, c'est que ça c'est bien passé sinon python vous le fera savoir"
   ]
  },
  {
   "cell_type": "markdown",
   "metadata": {},
   "source": [
    "3) L'une des choses les plus utiles à propos des notebook est la complétion\n",
    "- placer le curseur apres la parenthese puis appuyer sur Shift+Tab 1 fois:  \n",
    "    \n",
    "<div align=\"center\">\n",
    "<img src=\"images/tab-once.png\" width=\"75%\">\n",
    "</div>  \n",
    "\n",
    "- appuyer sur Shift+Tab une seconde fois:\n",
    "  \n",
    "<div align=\"center\">\n",
    "<img src=\"files/images/tab-twice.png\" width=\"75%\">\n",
    "</div>  \n",
    "\n",
    "- appuyer sur Shift+Tab encore 2 fois:\n",
    "  \n",
    "<div align=\"center\">\n",
    "<img src=\"files/images/tab-4-times.png\" width=\"90%\">\n",
    "</div>\n",
    "\n",
    "- essayer dans la cellule ci-dessous:"
   ]
  },
  {
   "cell_type": "code",
   "execution_count": null,
   "metadata": {},
   "outputs": [],
   "source": [
    "pd.read_csv("
   ]
  },
  {
   "cell_type": "markdown",
   "metadata": {},
   "source": [
    "Assez simplement, vous aurez accés à la signature, la docstring de la fonction, voir même quelques exemples si les créateurs de la librairie sont sympas."
   ]
  },
  {
   "cell_type": "markdown",
   "metadata": {},
   "source": [
    "4) De la même façon, il est possible d'explorer un objet python et d'acceder aux méthodes qui lui sont propres \n",
    "- placer un point derrière l'objet et appuyer sur la touche Tab:\n",
    "\n",
    "<div align=\"center\">\n",
    "<img src=\"files/images/function-completion.png\" width=\"30%\">\n",
    "</div>\n",
    "\n",
    "- essayer dans la cellule ci-dessous:"
   ]
  },
  {
   "cell_type": "code",
   "execution_count": 7,
   "metadata": {},
   "outputs": [],
   "source": [
    "var = \"Python c'est fun\""
   ]
  },
  {
   "cell_type": "code",
   "execution_count": null,
   "metadata": {},
   "outputs": [],
   "source": [
    "var."
   ]
  },
  {
   "cell_type": "markdown",
   "metadata": {},
   "source": [
    "Si vous voulez plus de tips sur les différentes  fonctionalités de jupyter notebook,\n",
    "essayez la commande suivante :  `%quickref`\n"
   ]
  },
  {
   "cell_type": "markdown",
   "metadata": {},
   "source": [
    "## Partie 1"
   ]
  },
  {
   "cell_type": "markdown",
   "metadata": {},
   "source": [
    "#### Liens utiles:\n",
    "\n",
    "https://docs.python.org/3.7/\n",
    "\n",
    "https://python.doctor/\n",
    "\n",
    "https://stackoverflow.com/\n",
    "\n",
    "Et de manière générale, lorsque vous avez besoin de documentation, google est votre ami!"
   ]
  },
  {
   "cell_type": "markdown",
   "metadata": {},
   "source": [
    "### Les variables"
   ]
  },
  {
   "cell_type": "markdown",
   "metadata": {},
   "source": [
    "1) Créer les variables suivantes avec les differents types et leurs valeurs:\n",
    "   - nom de la variable : var1, type : integer, valeur : 123\n",
    "   - nom de la variable : var2, type : float, valeur : 12.6\n",
    "   - nom de la variable : var3, type : booléen, valeur : true\n",
    "   - nom de la variable : var4, type : string, valeur : HELLO WORD\n",
    "   - nom de la variable : var5, type : dictionnaire, valeur : vide\n",
    "   - nom de la variable : var6, type : liste, valeur : 'bordeaux','lyon','paris','bordeaux'\n",
    "   - nom de la variable : var7, type : tuple, valeur : true, 'paris', 167\n",
    "   - nom de la variable : var8, type : set, valeur : 10,15,30"
   ]
  },
  {
   "cell_type": "code",
   "execution_count": 29,
   "metadata": {},
   "outputs": [],
   "source": [
    "var1 = 123\n",
    "var2 = 12.6\n",
    "var3 = True\n",
    "var4 = 'HELLO,WORLD'\n",
    "var5 = {}\n",
    "var6 = ['bordeaux', 'lyon', 'paris', 'bordeaux']\n",
    "var7 = (True, 'paris', 167)\n",
    "var8 = {10,15,30}"
   ]
  },
  {
   "cell_type": "markdown",
   "metadata": {},
   "source": [
    "2) Afficher leur type:"
   ]
  },
  {
   "cell_type": "code",
   "execution_count": 13,
   "metadata": {},
   "outputs": [
    {
     "name": "stdout",
     "output_type": "stream",
     "text": [
      "{10, 30, 15}\n"
     ]
    }
   ],
   "source": [
    "print(var8)"
   ]
  },
  {
   "cell_type": "code",
   "execution_count": 70,
   "metadata": {
    "scrolled": true
   },
   "outputs": [
    {
     "data": {
      "text/plain": [
       "tuple"
      ]
     },
     "execution_count": 70,
     "metadata": {},
     "output_type": "execute_result"
    }
   ],
   "source": [
    "print(type(var1))\n",
    "print(type(var2))\n",
    "print(type(var3))"
   ]
  },
  {
   "cell_type": "markdown",
   "metadata": {},
   "source": [
    "3) Opération sur les variables:\n",
    "- Additionner la var1 et la var2  \n",
    "- Additionner la var1 et var3  \n",
    "- Que peut-on constater et pourquoi ?"
   ]
  },
  {
   "cell_type": "code",
   "execution_count": 115,
   "metadata": {},
   "outputs": [
    {
     "data": {
      "text/plain": [
       "135.6"
      ]
     },
     "execution_count": 115,
     "metadata": {},
     "output_type": "execute_result"
    }
   ],
   "source": [
    "var1 + var2"
   ]
  },
  {
   "cell_type": "code",
   "execution_count": 21,
   "metadata": {
    "scrolled": true
   },
   "outputs": [
    {
     "data": {
      "text/plain": [
       "124"
      ]
     },
     "execution_count": 21,
     "metadata": {},
     "output_type": "execute_result"
    }
   ],
   "source": [
    "var1 + var3\n",
    "# lorque qu'on fait une opération avec des booléens, False est considéré comme égal à 0 et true egal à 1"
   ]
  },
  {
   "cell_type": "markdown",
   "metadata": {},
   "source": [
    "4) Quelle est la différence entre les types des variables var6, var7 et var8 ?"
   ]
  },
  {
   "cell_type": "markdown",
   "metadata": {},
   "source": [
    "https://www.geeksforgeeks.org/difference-between-list-vs-set-vs-tuple-in-python/"
   ]
  },
  {
   "cell_type": "markdown",
   "metadata": {},
   "source": [
    "5) Utiliser les méthodes propres aux string pour:\n",
    "   - Passer la valeur de la var4 en minuscule et la réasigné à la var4.\n",
    "   - Passer la première lettre de la var4 en majuscule.\n",
    "   - Transformer cette variable en liste de mots."
   ]
  },
  {
   "cell_type": "code",
   "execution_count": 23,
   "metadata": {},
   "outputs": [
    {
     "data": {
      "text/plain": [
       "'hello world'"
      ]
     },
     "execution_count": 23,
     "metadata": {},
     "output_type": "execute_result"
    }
   ],
   "source": [
    "var4 = var4.lower()\n",
    "print(var4)"
   ]
  },
  {
   "cell_type": "code",
   "execution_count": 24,
   "metadata": {},
   "outputs": [
    {
     "data": {
      "text/plain": [
       "'Hello world'"
      ]
     },
     "execution_count": 24,
     "metadata": {},
     "output_type": "execute_result"
    }
   ],
   "source": [
    "var4.capitalize()"
   ]
  },
  {
   "cell_type": "code",
   "execution_count": 22,
   "metadata": {
    "scrolled": true
   },
   "outputs": [
    {
     "name": "stdout",
     "output_type": "stream",
     "text": [
      "HELLO WORLD\n"
     ]
    }
   ],
   "source": [
    "print(var4)"
   ]
  },
  {
   "cell_type": "markdown",
   "metadata": {},
   "source": [
    "6) Utiliser les méthodes propres aux listes pour:\n",
    "   - Integrer les 4 premières variables dans une liste nommée var9.\n",
    "   - Récupérer l'avant dernier élément de la liste.\n",
    "   - Créer une var10 qui contient les mêmes valeurs que var9.\n",
    "   - Additionner la var9 et la var10 quel est le résultat ? \n",
    "   \n",
    "**Bonus:**\n",
    "   - Additioner les valeurs de deux listes de même longueur qui ne contiennent que des integer."
   ]
  },
  {
   "cell_type": "code",
   "execution_count": 33,
   "metadata": {},
   "outputs": [],
   "source": [
    "var9 = []\n",
    "var9.append(var1)\n",
    "var9.append(var2)\n",
    "var9.append(var3)\n",
    "var9.append(var4)"
   ]
  },
  {
   "cell_type": "code",
   "execution_count": 46,
   "metadata": {},
   "outputs": [
    {
     "data": {
      "text/plain": [
       "[123, 12.6, True, 'HELLO,WORLD']"
      ]
     },
     "execution_count": 46,
     "metadata": {},
     "output_type": "execute_result"
    }
   ],
   "source": [
    "var9"
   ]
  },
  {
   "cell_type": "code",
   "execution_count": 38,
   "metadata": {},
   "outputs": [
    {
     "data": {
      "text/plain": [
       "True"
      ]
     },
     "execution_count": 38,
     "metadata": {},
     "output_type": "execute_result"
    }
   ],
   "source": [
    "var9[-2]"
   ]
  },
  {
   "cell_type": "code",
   "execution_count": 39,
   "metadata": {
    "scrolled": true
   },
   "outputs": [],
   "source": [
    "var10 = var9"
   ]
  },
  {
   "cell_type": "code",
   "execution_count": 40,
   "metadata": {},
   "outputs": [
    {
     "data": {
      "text/plain": [
       "[123, 12.6, True, 'HELLO,WORLD', 123, 12.6, True, 'HELLO,WORLD']"
      ]
     },
     "execution_count": 40,
     "metadata": {},
     "output_type": "execute_result"
    }
   ],
   "source": [
    "var10 + var9"
   ]
  },
  {
   "cell_type": "markdown",
   "metadata": {},
   "source": [
    "6) Expliquer pourquoi la modification de la liste_2 affecte aussi la liste_1. Comment pallier à ce problème?"
   ]
  },
  {
   "cell_type": "code",
   "execution_count": 1,
   "metadata": {},
   "outputs": [
    {
     "name": "stdout",
     "output_type": "stream",
     "text": [
      "[1, 2, 3, 4, 1, 2, 3, 4]\n",
      "[1, 2, 3, 4, 1, 2, 3, 4]\n"
     ]
    }
   ],
   "source": [
    "liste_1 = [1,2,3,4]\n",
    "liste_2 = liste_1\n",
    "liste_2 += liste_1\n",
    "print(liste_1)\n",
    "print(liste_2)"
   ]
  },
  {
   "cell_type": "raw",
   "metadata": {},
   "source": [
    "cette syntaxe permet de travailler sur un même élément nommé différemment, pour copier une liste qui sera indépendante, on peut utiliser le slice comme ceci liste2 = liste1[:], ou la fonction .copy()"
   ]
  },
  {
   "cell_type": "markdown",
   "metadata": {},
   "source": [
    "### Les boucles"
   ]
  },
  {
   "cell_type": "markdown",
   "metadata": {},
   "source": [
    "1) Créer une boucle \"for\" sur var6 qui permet d'afficher les valeurs et leurs index et qui s'arrete lorsqu'elle tombe sur \"paris\""
   ]
  },
  {
   "cell_type": "code",
   "execution_count": 62,
   "metadata": {},
   "outputs": [],
   "source": [
    "var6 = ['bordeaux', 'lyon', 'paris', 'bordeaux']"
   ]
  },
  {
   "cell_type": "code",
   "execution_count": 64,
   "metadata": {},
   "outputs": [
    {
     "name": "stdout",
     "output_type": "stream",
     "text": [
      "0 bordeaux\n",
      "1 lyon\n",
      "2 paris\n"
     ]
    }
   ],
   "source": [
    "for item in var6:\n",
    "    print(var6.index(item), item)\n",
    "    if item == \"paris\":\n",
    "        break"
   ]
  },
  {
   "cell_type": "markdown",
   "metadata": {},
   "source": [
    "2) Créer une boucle \"for\" sur var6 qui permet d'effacer l'élément si il correspond à \"bordeaux\""
   ]
  },
  {
   "cell_type": "code",
   "execution_count": 77,
   "metadata": {},
   "outputs": [],
   "source": [
    "for item in var6:\n",
    "    if item.lower() == \"bordeaux\":\n",
    "        var6.remove(item)"
   ]
  },
  {
   "cell_type": "code",
   "execution_count": 78,
   "metadata": {},
   "outputs": [
    {
     "name": "stdout",
     "output_type": "stream",
     "text": [
      "['lyon', 'paris']\n"
     ]
    }
   ],
   "source": [
    "print(var6)"
   ]
  },
  {
   "cell_type": "markdown",
   "metadata": {},
   "source": [
    "3) Créer un boucle \"while\" qui teste un input utilisateur, tant que l'input n'est pas \"gema\" la boucle continue a demander un input.\n",
    " - Bonus: Faire en sorte que ça marche que 'gema' soit ecrit en minuscule ou en majuscule.\n",
    " - Attention: une boucle while avec une condition de fin mal définie peut donner une boucle infinie. Cela fera planter votre notebook, et eventuellement votre machine si la boucle effectue des opérations compliquées."
   ]
  },
  {
   "cell_type": "code",
   "execution_count": null,
   "metadata": {},
   "outputs": [],
   "source": [
    "#Version 1\n",
    "entree = input('entrez gema : ')\n",
    "while entree.lower() != 'gema':\n",
    "    entree = input('essayes encore! ')"
   ]
  },
  {
   "cell_type": "code",
   "execution_count": 80,
   "metadata": {},
   "outputs": [
    {
     "name": "stdout",
     "output_type": "stream",
     "text": [
      "cool\n",
      "essayes encore!\n",
      "GeMA\n",
      "bravo!\n"
     ]
    }
   ],
   "source": [
    "#Version 2\n",
    "entree = input('entrez gema : ')\n",
    "while entree.lower() != 'gema':\n",
    "    entree = input('essayes encore! ')\n",
    "    if entree.lower() == 'gema':\n",
    "        print('bravo!')\n",
    "        break"
   ]
  },
  {
   "cell_type": "markdown",
   "metadata": {},
   "source": [
    "4) Voici deux listes: liste1 est une liste de liste, liste2 une liste de dictictionnaire. Créer une boucle \"for\" sur chacune de ces listes qui calcule et affiche la somme du premier et dernier élément de chaque sous liste/dictionnaire."
   ]
  },
  {
   "cell_type": "code",
   "execution_count": 81,
   "metadata": {},
   "outputs": [],
   "source": [
    "liste1 = [[1,4,2],[3,7,2],[5,7,2],[1,4,8]]\n",
    "liste2 = [{\"premier\":12,\"deuxieme\":17,\"dernier\":23},\n",
    "        {\"premier\":7,\"deuxieme\":30,\"dernier\":60},\n",
    "        {\"premier\":2,\"deuxieme\":15,\"dernier\":37},\n",
    "        {\"premier\":2,\"deuxieme\":15,\"dernier\":37}]"
   ]
  },
  {
   "cell_type": "code",
   "execution_count": 82,
   "metadata": {},
   "outputs": [
    {
     "name": "stdout",
     "output_type": "stream",
     "text": [
      "3\n",
      "5\n",
      "7\n",
      "9\n"
     ]
    }
   ],
   "source": [
    "# version par étapes\n",
    "for item in liste1:\n",
    "    a = item[0]\n",
    "    b = item[-1]\n",
    "    print(a+b)"
   ]
  },
  {
   "cell_type": "code",
   "execution_count": 84,
   "metadata": {},
   "outputs": [
    {
     "name": "stdout",
     "output_type": "stream",
     "text": [
      "3\n",
      "5\n",
      "7\n",
      "9\n"
     ]
    }
   ],
   "source": [
    "# version condensée\n",
    "for item in liste1:\n",
    "    print(item[0] + item[-1])"
   ]
  },
  {
   "cell_type": "code",
   "execution_count": 83,
   "metadata": {},
   "outputs": [
    {
     "name": "stdout",
     "output_type": "stream",
     "text": [
      "35\n",
      "67\n",
      "39\n",
      "39\n"
     ]
    }
   ],
   "source": [
    "for item in liste2:\n",
    "    a = item[\"premier\"]\n",
    "    b = item[\"dernier\"]\n",
    "    print(a+b)"
   ]
  },
  {
   "cell_type": "markdown",
   "metadata": {},
   "source": [
    "5) Créer une boucle \"for\" sur liste1 et liste2 qui calcule et affiche la somme des deuxièmes valeurs de chaque sous liste."
   ]
  },
  {
   "cell_type": "code",
   "execution_count": 86,
   "metadata": {},
   "outputs": [
    {
     "name": "stdout",
     "output_type": "stream",
     "text": [
      "22\n"
     ]
    }
   ],
   "source": [
    "resultat = 0\n",
    "for item in liste1:\n",
    "    resultat += item[1]\n",
    "    \n",
    "print(resultat)    "
   ]
  },
  {
   "cell_type": "code",
   "execution_count": 87,
   "metadata": {},
   "outputs": [
    {
     "name": "stdout",
     "output_type": "stream",
     "text": [
      "77\n"
     ]
    }
   ],
   "source": [
    "resultat = 0\n",
    "for item in liste2:\n",
    "    resultat += item[\"deuxieme\"]\n",
    "\n",
    "print(resultat)"
   ]
  },
  {
   "cell_type": "markdown",
   "metadata": {},
   "source": [
    "### Les conditions if,elif,else"
   ]
  },
  {
   "cell_type": "markdown",
   "metadata": {},
   "source": [
    "1) En partant de la liste3 ci-dessous, créer un dictionnaire dont les clefs sont les valeurs uniques de la liste et les valeurs le nombre de fois qu'apparait chaque valeur dans la liste."
   ]
  },
  {
   "cell_type": "code",
   "execution_count": 88,
   "metadata": {},
   "outputs": [],
   "source": [
    "liste3 = [\"fr\",\"us\",\"ng\",\"us\",\"fr\",\"it\",\"fr\"]"
   ]
  },
  {
   "cell_type": "code",
   "execution_count": 90,
   "metadata": {},
   "outputs": [
    {
     "name": "stdout",
     "output_type": "stream",
     "text": [
      "['fr', 'us', 'ng', 'it']\n",
      "{'fr': 3, 'us': 2, 'ng': 1, 'it': 1}\n"
     ]
    }
   ],
   "source": [
    "unique =[]\n",
    "for item in liste3:\n",
    "    if item not in unique:\n",
    "        unique.append(item)\n",
    "print(unique)\n",
    "dico = {}\n",
    "for element in unique:\n",
    "    dico[element] = liste3.count(element)\n",
    "print(dico)"
   ]
  },
  {
   "cell_type": "markdown",
   "metadata": {},
   "source": [
    "2) A l'aide d'une condition, tester les clefs du dictionnaire store. Si la valeur testée est une clef existante, afficher la valeur correspondante sinon afficher le message \"Cette clef n'exite pas\"."
   ]
  },
  {
   "cell_type": "code",
   "execution_count": 92,
   "metadata": {},
   "outputs": [],
   "source": [
    "store = {\"reddit\":\"330 million\", \"tweeter\":\"330 million\", \"facebook\":\"2.7 milliard\"}"
   ]
  },
  {
   "cell_type": "code",
   "execution_count": 91,
   "metadata": {},
   "outputs": [],
   "source": [
    "valeur1 = \"tweeter\"\n",
    "valeur2 = \"instagram\""
   ]
  },
  {
   "cell_type": "code",
   "execution_count": 94,
   "metadata": {},
   "outputs": [
    {
     "name": "stdout",
     "output_type": "stream",
     "text": [
      "cette clé n'existe pas\n"
     ]
    }
   ],
   "source": [
    "if valeur2 in store.keys():\n",
    "    print(store[valeur1])\n",
    "else:\n",
    "    print(\"cette clé n'existe pas\")"
   ]
  },
  {
   "cell_type": "code",
   "execution_count": 95,
   "metadata": {},
   "outputs": [],
   "source": [
    "# Avec une fonction\n",
    "def test(valeur):\n",
    "    if valeur in store.keys():\n",
    "        print(store[valeur])\n",
    "    else:\n",
    "        print(\"cette clé n'existe pas\")"
   ]
  },
  {
   "cell_type": "code",
   "execution_count": 98,
   "metadata": {},
   "outputs": [
    {
     "name": "stdout",
     "output_type": "stream",
     "text": [
      "330 million\n"
     ]
    }
   ],
   "source": [
    "test(\"facebook\")"
   ]
  },
  {
   "cell_type": "markdown",
   "metadata": {},
   "source": [
    "3) Créer un input qui permet à un utilisateur d'entrer son age. Tester cet input:\n",
    "  - si l'input est < 12, on affiche enfant,\n",
    "  - si < 16, ado\n",
    "  - si < 30, jeune adulte\n",
    "  - si < 60, adulte\n",
    "  - si > 60, senior  \n",
    "Bien sûr, personne ne devra avoir plusieurs categories, ou aucune."
   ]
  },
  {
   "cell_type": "code",
   "execution_count": 100,
   "metadata": {},
   "outputs": [
    {
     "name": "stdout",
     "output_type": "stream",
     "text": [
      "entrez votre age : 25\n",
      "jeune adulte\n"
     ]
    }
   ],
   "source": [
    "age = int(input(\"entrez votre age : \"))\n",
    "\n",
    "if age < 12:\n",
    "    print(\"enfant\")\n",
    "elif 12 <= age < 16:\n",
    "    print(\"ado\")\n",
    "elif 16 <= age < 30:\n",
    "    print(\"jeune adulte\")\n",
    "elif 30 <= age < 60:\n",
    "    print(\"adulte\")\n",
    "else:\n",
    "    print(\"senior\")"
   ]
  },
  {
   "cell_type": "markdown",
   "metadata": {},
   "source": [
    " ### Les fonctions"
   ]
  },
  {
   "cell_type": "markdown",
   "metadata": {},
   "source": [
    "1) Créer une fonction nommée reverse_word qui prend en argument une chaîne de caractère et qui retourne cette chaîne à l'envers."
   ]
  },
  {
   "cell_type": "code",
   "execution_count": 109,
   "metadata": {},
   "outputs": [
    {
     "data": {
      "text/plain": [
       "'erbra'"
      ]
     },
     "execution_count": 109,
     "metadata": {},
     "output_type": "execute_result"
    }
   ],
   "source": [
    "# Version Anissa\n",
    "mot = 'arbre'\n",
    "def reverse_word(mot):\n",
    "    mot_rev = ''\n",
    "    for i in reversed(mot):\n",
    "        mot_rev += i\n",
    "    return(mot_rev)\n",
    "reverse_word(mot)"
   ]
  },
  {
   "cell_type": "code",
   "execution_count": 110,
   "metadata": {},
   "outputs": [],
   "source": [
    "# Version Tristan\n",
    "def reverse_word1(word):\n",
    "    new_word = word[::-1]\n",
    "    return new_word\n",
    "        "
   ]
  },
  {
   "cell_type": "code",
   "execution_count": 111,
   "metadata": {},
   "outputs": [
    {
     "data": {
      "text/plain": [
       "'erbra'"
      ]
     },
     "execution_count": 111,
     "metadata": {},
     "output_type": "execute_result"
    }
   ],
   "source": [
    "reverse_word1(mot)"
   ]
  },
  {
   "cell_type": "markdown",
   "metadata": {},
   "source": [
    "2) Créer une fonction nommée fusion qui prend deux dictionnaires en arguments et qui retourne la fusion de ces deux dictionnaires en un seul."
   ]
  },
  {
   "cell_type": "code",
   "execution_count": 112,
   "metadata": {},
   "outputs": [],
   "source": [
    "store = {\"reddit\":\"330 million\", \n",
    "         \"tweeter\":\"330 million\", \n",
    "         \"facebook\":\"2.7 milliard\"}\n",
    "\n",
    "dico1 = {\"prenom\":\"bob\", \n",
    "         \"nom\":\"Moran\", \n",
    "         \"age\":15}"
   ]
  },
  {
   "cell_type": "code",
   "execution_count": 113,
   "metadata": {},
   "outputs": [],
   "source": [
    "def fusion(dict1, dict2):\n",
    "    for cle in dict2.keys():\n",
    "        dict1[cle] = dict2[cle]\n",
    "    return dict1"
   ]
  },
  {
   "cell_type": "code",
   "execution_count": 114,
   "metadata": {},
   "outputs": [
    {
     "data": {
      "text/plain": [
       "{'reddit': '330 million',\n",
       " 'tweeter': '330 million',\n",
       " 'facebook': '2.7 milliard',\n",
       " 'prenom': 'bob',\n",
       " 'nom': 'Moran',\n",
       " 'age': 15}"
      ]
     },
     "execution_count": 114,
     "metadata": {},
     "output_type": "execute_result"
    }
   ],
   "source": [
    "fusion(store, dico1)"
   ]
  },
  {
   "cell_type": "markdown",
   "metadata": {},
   "source": [
    "3) Créer une fonction nommée is_annagram qui prend deux mots en arguments et qui retourne true si ces deux mots sont des anagrammes."
   ]
  },
  {
   "cell_type": "code",
   "execution_count": 116,
   "metadata": {},
   "outputs": [],
   "source": [
    "# la fonction sorted() fonction native de python, permet de ranger les lettre d'une chaîne de caractères\n",
    "# par ordre alphabéthique\n",
    "def is_anagram(word1,word2):\n",
    "    if sorted(word1) == sorted(word2):\n",
    "        return True\n",
    "    else:\n",
    "        return False"
   ]
  },
  {
   "cell_type": "code",
   "execution_count": 117,
   "metadata": {
    "scrolled": true
   },
   "outputs": [
    {
     "data": {
      "text/plain": [
       "True"
      ]
     },
     "execution_count": 117,
     "metadata": {},
     "output_type": "execute_result"
    }
   ],
   "source": [
    "is_anagram(\"canard\",\"cadran\")"
   ]
  },
  {
   "cell_type": "code",
   "execution_count": 118,
   "metadata": {},
   "outputs": [
    {
     "data": {
      "text/plain": [
       "False"
      ]
     },
     "execution_count": 118,
     "metadata": {},
     "output_type": "execute_result"
    }
   ],
   "source": [
    "is_anagram(\"fraise\",\"chocolat\")"
   ]
  },
  {
   "cell_type": "markdown",
   "metadata": {},
   "source": [
    "4) Créer une fonction nommée operator qui prend trois arguments:\n",
    "  - un operateur\n",
    "  - une premiere valeur\n",
    "  - une seconde valeur <a/>  \n",
    "et retourne le resultat de l'operation souhaité ou none si l'opération n'existe pas."
   ]
  },
  {
   "cell_type": "code",
   "execution_count": 124,
   "metadata": {},
   "outputs": [],
   "source": [
    "def operator(op,val1,val2):\n",
    "    if op == '+':\n",
    "        return val1 + val2\n",
    "    if op == '-': \n",
    "        return val1 - val2\n",
    "    if op == '*': \n",
    "        return val1 * val2\n",
    "    if op == '/':\n",
    "        try:\n",
    "            return val1 / val2\n",
    "        except:\n",
    "            return None"
   ]
  },
  {
   "cell_type": "code",
   "execution_count": 125,
   "metadata": {},
   "outputs": [
    {
     "data": {
      "text/plain": [
       "45"
      ]
     },
     "execution_count": 125,
     "metadata": {},
     "output_type": "execute_result"
    }
   ],
   "source": [
    "operator('+',15,30)"
   ]
  },
  {
   "cell_type": "code",
   "execution_count": 126,
   "metadata": {},
   "outputs": [
    {
     "data": {
      "text/plain": [
       "-15"
      ]
     },
     "execution_count": 126,
     "metadata": {},
     "output_type": "execute_result"
    }
   ],
   "source": [
    "operator('-',15,30)"
   ]
  },
  {
   "cell_type": "code",
   "execution_count": 127,
   "metadata": {},
   "outputs": [
    {
     "data": {
      "text/plain": [
       "450"
      ]
     },
     "execution_count": 127,
     "metadata": {},
     "output_type": "execute_result"
    }
   ],
   "source": [
    "operator('*',15,30)"
   ]
  },
  {
   "cell_type": "code",
   "execution_count": 128,
   "metadata": {},
   "outputs": [
    {
     "data": {
      "text/plain": [
       "0.5"
      ]
     },
     "execution_count": 128,
     "metadata": {},
     "output_type": "execute_result"
    }
   ],
   "source": [
    "operator('/',15,30)"
   ]
  },
  {
   "cell_type": "markdown",
   "metadata": {},
   "source": [
    "**Bonus**  \n",
    "  - Mettez toutes ses fonctions dans un fichier externe et importez le comme un module."
   ]
  },
  {
   "cell_type": "code",
   "execution_count": 129,
   "metadata": {},
   "outputs": [],
   "source": [
    "# laissez tomber cette question, on verra si on a le temps de travailler sur un script a la fin\n",
    "# pour l'instant on va rester sur jupyter notebook"
   ]
  },
  {
   "cell_type": "code",
   "execution_count": null,
   "metadata": {},
   "outputs": [],
   "source": []
  }
 ],
 "metadata": {
  "kernelspec": {
   "display_name": "Python 3",
   "language": "python",
   "name": "python3"
  },
  "language_info": {
   "codemirror_mode": {
    "name": "ipython",
    "version": 3
   },
   "file_extension": ".py",
   "mimetype": "text/x-python",
   "name": "python",
   "nbconvert_exporter": "python",
   "pygments_lexer": "ipython3",
   "version": "3.7.9"
  },
  "varInspector": {
   "cols": {
    "lenName": 16,
    "lenType": 16,
    "lenVar": 40
   },
   "kernels_config": {
    "python": {
     "delete_cmd_postfix": "",
     "delete_cmd_prefix": "del ",
     "library": "var_list.py",
     "varRefreshCmd": "print(var_dic_list())"
    },
    "r": {
     "delete_cmd_postfix": ") ",
     "delete_cmd_prefix": "rm(",
     "library": "var_list.r",
     "varRefreshCmd": "cat(var_dic_list()) "
    }
   },
   "types_to_exclude": [
    "module",
    "function",
    "builtin_function_or_method",
    "instance",
    "_Feature"
   ],
   "window_display": false
  }
 },
 "nbformat": 4,
 "nbformat_minor": 2
}
