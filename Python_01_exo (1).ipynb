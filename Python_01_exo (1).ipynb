{
 "cells": [
  {
   "cell_type": "markdown",
   "metadata": {},
   "source": [
    "# Python\n"
   ]
  },
  {
   "cell_type": "markdown",
   "metadata": {},
   "source": [
    "### Intro"
   ]
  },
  {
   "cell_type": "markdown",
   "metadata": {},
   "source": [
    "Nous voici sur Jupyter Notebook un logiciel 100% open-source.  \n",
    "C'est un environnement de calcul interactif basé sur une interface web.  \n",
    "Chaque cellule est independante mais conserve les variables déclarée au préalable,  \n",
    "elles peuvent contenir du code, du texte(brut) ou des markdown.  \n",
    "Executer une cellule se fait soit par le bouton ▶ soit par le raccourcis Ctrl+Enter ou Shift+Enter.  \n"
   ]
  },
  {
   "cell_type": "markdown",
   "metadata": {},
   "source": [
    "### Tips"
   ]
  },
  {
   "cell_type": "markdown",
   "metadata": {},
   "source": [
    "1) Lorsque vous séléctionnez une cellule, si le cadre est vert vous êtes en mode édition, si il est bleu vous êtes en mode sélection.\n",
    "\n",
    "En mode sélection : \n",
    "- tapez a pour créer nouvelle cellule au dessus\n",
    "- tapez b pour créer nouvelle cellule en dessous\n",
    "- tapez dd pour supprimer une cellule (vous pouvez réafficher la derniere cellule supprimée dans le menu Edit en haut)"
   ]
  },
  {
   "cell_type": "markdown",
   "metadata": {},
   "source": [
    "2) Il est possible grâce a \"!\" d'exécuter directement une commande dans le terminal dans le dossier courant depuis votre jupyter notebook\n",
    "- Tester les commandes suivantes:"
   ]
  },
  {
   "cell_type": "code",
   "execution_count": 9,
   "metadata": {},
   "outputs": [
    {
     "name": "stderr",
     "output_type": "stream",
     "text": [
      "Fichier introuvable\n"
     ]
    }
   ],
   "source": [
    "!dir  -> windows\n",
    "#!ls -> linux/macOs\n",
    "\n",
    "\n",
    "\n",
    "\n"
   ]
  },
  {
   "cell_type": "markdown",
   "metadata": {},
   "source": [
    "- Installer une librairie directement du notebook"
   ]
  },
  {
   "cell_type": "code",
   "execution_count": 1,
   "metadata": {},
   "outputs": [
    {
     "name": "stdout",
     "output_type": "stream",
     "text": [
      "Requirement already satisfied: pandas in c:\\users\\guila\\appdata\\local\\programs\\python\\python37\\lib\\site-packages (1.2.2)\n",
      "Requirement already satisfied: python-dateutil>=2.7.3 in c:\\users\\guila\\appdata\\local\\programs\\python\\python37\\lib\\site-packages (from pandas) (2.8.1)\n",
      "Requirement already satisfied: pytz>=2017.3 in c:\\users\\guila\\appdata\\local\\programs\\python\\python37\\lib\\site-packages (from pandas) (2021.1)\n",
      "Requirement already satisfied: numpy>=1.16.5 in c:\\users\\guila\\appdata\\local\\programs\\python\\python37\\lib\\site-packages (from pandas) (1.20.1)\n",
      "Requirement already satisfied: six>=1.5 in c:\\users\\guila\\appdata\\local\\programs\\python\\python37\\lib\\site-packages (from python-dateutil>=2.7.3->pandas) (1.15.0)\n"
     ]
    },
    {
     "name": "stderr",
     "output_type": "stream",
     "text": [
      "WARNING: You are using pip version 20.1.1; however, version 21.0.1 is available.\n",
      "You should consider upgrading via the 'c:\\users\\guila\\appdata\\local\\programs\\python\\python37\\python.exe -m pip install --upgrade pip' command.\n"
     ]
    }
   ],
   "source": [
    "!pip install pandas \n",
    "\n"
   ]
  },
  {
   "cell_type": "markdown",
   "metadata": {},
   "source": [
    "- Importer la librairie"
   ]
  },
  {
   "cell_type": "code",
   "execution_count": null,
   "metadata": {},
   "outputs": [],
   "source": [
    "import pandas as pd # si la cellule s'execute sans rien retourner, c'est que ça c'est bien passé sinon python vous le fera savoir"
   ]
  },
  {
   "cell_type": "markdown",
   "metadata": {},
   "source": [
    "3) L'une des choses les plus utiles à propos des notebook est la complétion\n",
    "- placer le curseur apres la parenthese puis appuyer sur Shift+Tab 1 fois:  \n",
    "    \n",
    "<div align=\"center\">\n",
    "<img src=\"images/tab-once.png\" width=\"75%\">\n",
    "</div>  \n",
    "\n",
    "- appuyer sur Shift+Tab une seconde fois:\n",
    "  \n",
    "<div align=\"center\">\n",
    "<img src=\"files/images/tab-twice.png\" width=\"75%\">\n",
    "</div>  \n",
    "\n",
    "- appuyer sur Shift+Tab encore 2 fois:\n",
    "  \n",
    "<div align=\"center\">\n",
    "<img src=\"files/images/tab-4-times.png\" width=\"90%\">\n",
    "</div>\n",
    "\n",
    "- essayer dans la cellule ci-dessous:"
   ]
  },
  {
   "cell_type": "code",
   "execution_count": null,
   "metadata": {},
   "outputs": [],
   "source": [
    "pd.read_csv("
   ]
  },
  {
   "cell_type": "markdown",
   "metadata": {},
   "source": [
    "Assez simplement, vous aurez accés à la signature, la docstring de la fonction, voir même quelques exemples si les créateurs de la librairie sont sympas."
   ]
  },
  {
   "cell_type": "markdown",
   "metadata": {},
   "source": [
    "4) De la même façon, il est possible d'explorer un objet python et d'acceder aux méthodes qui lui sont propres \n",
    "- placer un point derrière l'objet et appuyer sur la touche Tab:\n",
    "\n",
    "<div align=\"center\">\n",
    "<img src=\"files/images/function-completion.png\" width=\"30%\">\n",
    "</div>\n",
    "\n",
    "- essayer dans la cellule ci-dessous:"
   ]
  },
  {
   "cell_type": "code",
   "execution_count": null,
   "metadata": {},
   "outputs": [],
   "source": [
    "var = \"Python c'est fun\"\n",
    "var."
   ]
  },
  {
   "cell_type": "markdown",
   "metadata": {},
   "source": [
    "Si vous voulez plus de tips sur les différentes  fonctionalités de jupyter notebook,\n",
    "essayez la commande suivante :  `%quickref`\n"
   ]
  },
  {
   "cell_type": "markdown",
   "metadata": {},
   "source": [
    "## Partie 1"
   ]
  },
  {
   "cell_type": "markdown",
   "metadata": {},
   "source": [
    "#### Liens utiles:\n",
    "\n",
    "https://docs.python.org/3.7/\n",
    "\n",
    "https://python.doctor/\n",
    "\n",
    "https://stackoverflow.com/\n",
    "\n",
    "Et de manière générale, lorsque vous avez besoin de documentation, google est votre ami!"
   ]
  },
  {
   "cell_type": "markdown",
   "metadata": {},
   "source": [
    "### Les variables"
   ]
  },
  {
   "cell_type": "markdown",
   "metadata": {},
   "source": [
    "1) Créer les variables suivantes avec les differents types et leurs valeurs:\n",
    "   - nom de la variable : var1, type : integer, valeur : 123\n",
    "   - nom de la variable : var2, type : float, valeur : 12.6\n",
    "   - nom de la variable : var3, type : booléen, valeur : true\n",
    "   - nom de la variable : var4, type : string, valeur : HELLO WORD\n",
    "   - nom de la variable : var5, type : dictionnaire, valeur : vide\n",
    "   - nom de la variable : var6, type : liste, valeur : 'bordeaux','lyon','paris','bordeaux'\n",
    "   - nom de la variable : var7, type : tuple, valeur : true, 'paris', 167\n",
    "   - nom de la variable : var8, type : set, valeur : 10,15,30"
   ]
  },
  {
   "cell_type": "code",
   "execution_count": null,
   "metadata": {},
   "outputs": [],
   "source": []
  },
  {
   "cell_type": "markdown",
   "metadata": {},
   "source": [
    "2) Tester et afficher leur type:"
   ]
  },
  {
   "cell_type": "code",
   "execution_count": null,
   "metadata": {},
   "outputs": [],
   "source": []
  },
  {
   "cell_type": "markdown",
   "metadata": {},
   "source": [
    "3) Opération sur les variables:\n",
    "- Additionner la var1 et la var2  \n",
    "- Additionner la var1 et var3  \n",
    "- Que peut-on constater et pourquoi ?"
   ]
  },
  {
   "cell_type": "code",
   "execution_count": null,
   "metadata": {},
   "outputs": [],
   "source": []
  },
  {
   "cell_type": "markdown",
   "metadata": {},
   "source": [
    "4) Quelle est la différence entre les types des variables var6, var7 et var8 ?"
   ]
  },
  {
   "cell_type": "raw",
   "metadata": {},
   "source": []
  },
  {
   "cell_type": "markdown",
   "metadata": {},
   "source": [
    "5) Utiliser les méthodes propres aux string pour:\n",
    "   - Passer la valeur de la var4 en minuscule et la réasigné à la var4.\n",
    "   - Passer la première lettre de la var4 en majuscule.\n",
    "   - Transformer cette variable en liste de mots."
   ]
  },
  {
   "cell_type": "code",
   "execution_count": null,
   "metadata": {},
   "outputs": [],
   "source": []
  },
  {
   "cell_type": "markdown",
   "metadata": {},
   "source": [
    "6) Utiliser les méthodes propres aux listes pour:\n",
    "   - Integrer les 4 premières variables dans une liste nommée var9.\n",
    "   - Récupérer l'avant dernier élément de la liste.\n",
    "   - Créer une var10 qui contient les mêmes valeurs que var9.\n",
    "   - Additionner la var9 et la var10 quel est le résultat ? \n",
    "   \n",
    "**Bonus:**\n",
    "   - Additioner les valeurs de deux listes de même longueur qui ne contiennent que des integer."
   ]
  },
  {
   "cell_type": "code",
   "execution_count": null,
   "metadata": {},
   "outputs": [],
   "source": []
  },
  {
   "cell_type": "code",
   "execution_count": null,
   "metadata": {},
   "outputs": [],
   "source": []
  },
  {
   "cell_type": "code",
   "execution_count": null,
   "metadata": {},
   "outputs": [],
   "source": []
  },
  {
   "cell_type": "code",
   "execution_count": null,
   "metadata": {},
   "outputs": [],
   "source": []
  },
  {
   "cell_type": "markdown",
   "metadata": {},
   "source": [
    "6) Expliquer pourquoi la modification de la liste_1 affecte aussi la liste_2. Comment pallier à ce problème?"
   ]
  },
  {
   "cell_type": "code",
   "execution_count": null,
   "metadata": {},
   "outputs": [],
   "source": [
    "liste_1 = [1,2,3,4]\n",
    "liste_2 = liste_1\n",
    "liste_2 += liste_1\n",
    "print(liste_1)\n",
    "print(liste_2)"
   ]
  },
  {
   "cell_type": "markdown",
   "metadata": {},
   "source": [
    "### Les boucles"
   ]
  },
  {
   "cell_type": "code",
   "execution_count": null,
   "metadata": {},
   "outputs": [],
   "source": []
  },
  {
   "cell_type": "markdown",
   "metadata": {},
   "source": [
    "1) Créer une boucle \"for\" sur var6 qui permet d'afficher les valeurs et leurs index et qui s'arrete lorsqu'elle tombe sur \"paris\""
   ]
  },
  {
   "cell_type": "code",
   "execution_count": null,
   "metadata": {},
   "outputs": [],
   "source": []
  },
  {
   "cell_type": "markdown",
   "metadata": {},
   "source": [
    "2) Créer une boucle \"for\" sur var6 qui permet d'effacer l'élément si il correspond à \"bordeaux\""
   ]
  },
  {
   "cell_type": "code",
   "execution_count": null,
   "metadata": {},
   "outputs": [],
   "source": []
  },
  {
   "cell_type": "markdown",
   "metadata": {},
   "source": [
    "3) Créer un boucle \"while\" qui teste un input utilisateur, tant que l'input n'est pas \"gema\" la boucle continue a demander un input.\n",
    " - Bonus: Faire en sorte que ça marche que 'gema' soit ecrit en minuscule ou en majuscule.\n",
    " - Attention: une boucle while avec une condition de fin mal définie peut donner une boucle infinie. Cela fera planter votre notebook, et eventuellement votre machine si la boucle effectue des opérations compliquées."
   ]
  },
  {
   "cell_type": "code",
   "execution_count": null,
   "metadata": {},
   "outputs": [],
   "source": []
  },
  {
   "cell_type": "markdown",
   "metadata": {},
   "source": [
    "4) Voici deux listes: liste1 est une liste de liste, liste2 une liste de dictictionnaire. Créer une boucle \"for\" sur chacune de ces listes qui calcule et affiche la somme du premier et dernier élément de chaque sous liste/dictionnaire."
   ]
  },
  {
   "cell_type": "code",
   "execution_count": null,
   "metadata": {},
   "outputs": [],
   "source": [
    "liste1 = [[1,4,2],[3,7,2],[5,7,2],[1,4,8]]\n",
    "liste2 = [{\"premier\":12,\"deuxieme\":17,\"dernier\":23},\n",
    "        {\"premier\":7,\"deuxieme\":30,\"dernier\":60},\n",
    "        {\"premier\":2,\"deuxieme\":15,\"dernier\":37},\n",
    "        {\"premier\":2,\"deuxieme\":15,\"dernier\":37}]"
   ]
  },
  {
   "cell_type": "code",
   "execution_count": null,
   "metadata": {
    "scrolled": true
   },
   "outputs": [],
   "source": []
  },
  {
   "cell_type": "code",
   "execution_count": null,
   "metadata": {},
   "outputs": [],
   "source": []
  },
  {
   "cell_type": "markdown",
   "metadata": {},
   "source": [
    "5) Créer une boucle \"for\" sur liste1 et liste2 qui calcule et affiche la somme des deuxièmes valeurs de chaque sous liste."
   ]
  },
  {
   "cell_type": "code",
   "execution_count": null,
   "metadata": {},
   "outputs": [],
   "source": []
  },
  {
   "cell_type": "code",
   "execution_count": null,
   "metadata": {},
   "outputs": [],
   "source": []
  },
  {
   "cell_type": "markdown",
   "metadata": {},
   "source": [
    "### Les conditions if,elif,else"
   ]
  },
  {
   "cell_type": "markdown",
   "metadata": {},
   "source": [
    "1) En partant de la liste3 ci-dessous, créer un dictionnaire dont les clefs sont les valeurs uniques de la liste et les valeurs le nombre de fois qu'apparait chaque valeur dans la liste."
   ]
  },
  {
   "cell_type": "code",
   "execution_count": null,
   "metadata": {},
   "outputs": [],
   "source": [
    "liste3 = [\"fr\",\"us\",\"ng\",\"us\",\"fr\",\"it\",\"fr\"]"
   ]
  },
  {
   "cell_type": "code",
   "execution_count": null,
   "metadata": {},
   "outputs": [],
   "source": []
  },
  {
   "cell_type": "markdown",
   "metadata": {},
   "source": [
    "2) A l'aide d'une condition, tester les clefs du dictionnaire store. Si la valeur testée est une clef existante, afficher la valeur correspondante sinon afficher le message \"Cette clef n'exite pas\"."
   ]
  },
  {
   "cell_type": "code",
   "execution_count": null,
   "metadata": {},
   "outputs": [],
   "source": [
    "store = {\"reddit\":\"330 million\",\"tweeter\":\"330 million\",'facebook':\"2.7 milliard\"}"
   ]
  },
  {
   "cell_type": "code",
   "execution_count": null,
   "metadata": {},
   "outputs": [],
   "source": []
  },
  {
   "cell_type": "markdown",
   "metadata": {},
   "source": [
    "3) Créer un input qui permet à un utilisateur d'entrer son age. Tester cet input:\n",
    "  - si l'input est < 12, on affiche enfant,\n",
    "  - si < 16, ado\n",
    "  - si < 30, jeune adulte\n",
    "  - si < 60, adulte\n",
    "  - si > 60, senior  \n",
    "Bien sûr, personne ne devra avoir plusieurs categories, ou aucune."
   ]
  },
  {
   "cell_type": "code",
   "execution_count": null,
   "metadata": {},
   "outputs": [],
   "source": []
  },
  {
   "cell_type": "markdown",
   "metadata": {},
   "source": [
    " ### Les fonctions"
   ]
  },
  {
   "cell_type": "markdown",
   "metadata": {},
   "source": [
    "1) Créer une fonction nommée reverse_word qui prend en argument une chaîne de caractère et qui retourne cette chaîne à l'envers."
   ]
  },
  {
   "cell_type": "code",
   "execution_count": null,
   "metadata": {},
   "outputs": [],
   "source": []
  },
  {
   "cell_type": "markdown",
   "metadata": {},
   "source": [
    "2) Créer une fonction nommée fusion qui prend deux dictionnaires en arguments et qui retourne la fusion de ces deux dictionnaires en un seul."
   ]
  },
  {
   "cell_type": "code",
   "execution_count": null,
   "metadata": {},
   "outputs": [],
   "source": []
  },
  {
   "cell_type": "markdown",
   "metadata": {},
   "source": [
    "3) Créer une fonction nommée is_annagram qui prend deux mots en arguments et qui retourne true si ces deux mots sont des anagrammes."
   ]
  },
  {
   "cell_type": "code",
   "execution_count": null,
   "metadata": {},
   "outputs": [],
   "source": [
    "\n",
    "    "
   ]
  },
  {
   "cell_type": "markdown",
   "metadata": {},
   "source": [
    "4) Créer une fonction nommée operator qui prend trois arguments:\n",
    "  - un operateur\n",
    "  - une premiere valeur\n",
    "  - une seconde valeur <a/>  \n",
    "et retourne le resultat de l'operation souhaité ou none si l'opération n'existe pas."
   ]
  },
  {
   "cell_type": "code",
   "execution_count": null,
   "metadata": {},
   "outputs": [],
   "source": []
  },
  {
   "cell_type": "markdown",
   "metadata": {},
   "source": [
    "**Bonus**  \n",
    "  - Mettez toutes ses fonctions dans un fichier externe et importez le comme un module."
   ]
  },
  {
   "cell_type": "code",
   "execution_count": null,
   "metadata": {},
   "outputs": [],
   "source": []
  }
 ],
 "metadata": {
  "kernelspec": {
   "display_name": "Python 3",
   "language": "python",
   "name": "python3"
  },
  "language_info": {
   "codemirror_mode": {
    "name": "ipython",
    "version": 3
   },
   "file_extension": ".py",
   "mimetype": "text/x-python",
   "name": "python",
   "nbconvert_exporter": "python",
   "pygments_lexer": "ipython3",
   "version": "3.7.9"
  },
  "varInspector": {
   "cols": {
    "lenName": 16,
    "lenType": 16,
    "lenVar": 40
   },
   "kernels_config": {
    "python": {
     "delete_cmd_postfix": "",
     "delete_cmd_prefix": "del ",
     "library": "var_list.py",
     "varRefreshCmd": "print(var_dic_list())"
    },
    "r": {
     "delete_cmd_postfix": ") ",
     "delete_cmd_prefix": "rm(",
     "library": "var_list.r",
     "varRefreshCmd": "cat(var_dic_list()) "
    }
   },
   "types_to_exclude": [
    "module",
    "function",
    "builtin_function_or_method",
    "instance",
    "_Feature"
   ],
   "window_display": false
  }
 },
 "nbformat": 4,
 "nbformat_minor": 2
}
