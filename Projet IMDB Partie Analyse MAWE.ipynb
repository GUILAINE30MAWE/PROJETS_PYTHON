{
 "cells": [
  {
   "cell_type": "markdown",
   "id": "meaningful-national",
   "metadata": {},
   "source": [
    "### Partie 2 : Analyse "
   ]
  },
  {
   "cell_type": "markdown",
   "id": "major-recall",
   "metadata": {},
   "source": [
    "#### **MAWE GUILAINE**"
   ]
  },
  {
   "cell_type": "markdown",
   "id": "theoretical-flush",
   "metadata": {},
   "source": [
    "### 2. Top 50 des budgets des films"
   ]
  },
  {
   "cell_type": "code",
   "execution_count": 18,
   "id": "sitting-martin",
   "metadata": {},
   "outputs": [],
   "source": [
    "%matplotlib inline\n",
    "import pandas as pd\n",
    "import numpy as np\n",
    "import matplotlib.pyplot as plt\n",
    "plt.style.use('seaborn-whitegrid')"
   ]
  },
  {
   "cell_type": "code",
   "execution_count": 19,
   "id": "enclosed-highland",
   "metadata": {},
   "outputs": [],
   "source": [
    "df =pd.read_csv('imdb.csv')   ### Récuperation de mon fichier CSV"
   ]
  },
  {
   "cell_type": "code",
   "execution_count": 20,
   "id": "valid-citizen",
   "metadata": {},
   "outputs": [
    {
     "data": {
      "text/html": [
       "<div>\n",
       "<style scoped>\n",
       "    .dataframe tbody tr th:only-of-type {\n",
       "        vertical-align: middle;\n",
       "    }\n",
       "\n",
       "    .dataframe tbody tr th {\n",
       "        vertical-align: top;\n",
       "    }\n",
       "\n",
       "    .dataframe thead th {\n",
       "        text-align: right;\n",
       "    }\n",
       "</style>\n",
       "<table border=\"1\" class=\"dataframe\">\n",
       "  <thead>\n",
       "    <tr style=\"text-align: right;\">\n",
       "      <th></th>\n",
       "      <th>Titre_film</th>\n",
       "      <th>Note_film</th>\n",
       "      <th>Score</th>\n",
       "      <th>Nbre_de_vote</th>\n",
       "      <th>Directeur</th>\n",
       "      <th>Scenariste</th>\n",
       "      <th>Duree_film</th>\n",
       "      <th>Type_film</th>\n",
       "      <th>Date_sortie</th>\n",
       "      <th>Lieu_tournage</th>\n",
       "      <th>...</th>\n",
       "      <th>Nmbre_review</th>\n",
       "      <th>Nombre_critic</th>\n",
       "      <th>Filmographie</th>\n",
       "      <th>Budget</th>\n",
       "      <th>Runtime</th>\n",
       "      <th>Color</th>\n",
       "      <th>Aspect_ratio</th>\n",
       "      <th>Gross_USA</th>\n",
       "      <th>Cwg</th>\n",
       "      <th>Sound_Mix</th>\n",
       "    </tr>\n",
       "  </thead>\n",
       "  <tbody>\n",
       "  </tbody>\n",
       "</table>\n",
       "<p>0 rows × 22 columns</p>\n",
       "</div>"
      ],
      "text/plain": [
       "Empty DataFrame\n",
       "Columns: [Titre_film, Note_film, Score, Nbre_de_vote, Directeur, Scenariste, Duree_film, Type_film, Date_sortie, Lieu_tournage, pays de ritie, Langue_tournage, Nmbre_review, Nombre_critic, Filmographie, Budget, Runtime, Color, Aspect_ratio, Gross_USA, Cwg, Sound_Mix]\n",
       "Index: []\n",
       "\n",
       "[0 rows x 22 columns]"
      ]
     },
     "execution_count": 20,
     "metadata": {},
     "output_type": "execute_result"
    }
   ],
   "source": [
    "df "
   ]
  },
  {
   "cell_type": "code",
   "execution_count": 1,
   "id": "valuable-strain",
   "metadata": {
    "scrolled": true
   },
   "outputs": [
    {
     "ename": "NameError",
     "evalue": "name 'df' is not defined",
     "output_type": "error",
     "traceback": [
      "\u001b[1;31m---------------------------------------------------------------------------\u001b[0m",
      "\u001b[1;31mNameError\u001b[0m                                 Traceback (most recent call last)",
      "\u001b[1;32m<ipython-input-1-b52a9780a142>\u001b[0m in \u001b[0;36m<module>\u001b[1;34m\u001b[0m\n\u001b[1;32m----> 1\u001b[1;33m \u001b[0mtop_budget\u001b[0m \u001b[1;33m=\u001b[0m \u001b[0mdf\u001b[0m\u001b[1;33m.\u001b[0m\u001b[0msort_values\u001b[0m\u001b[1;33m(\u001b[0m\u001b[1;34m'Budget'\u001b[0m\u001b[1;33m,\u001b[0m\u001b[0mascending\u001b[0m\u001b[1;33m=\u001b[0m\u001b[1;32mFalse\u001b[0m\u001b[1;33m)\u001b[0m\u001b[1;33m.\u001b[0m\u001b[0mhead\u001b[0m\u001b[1;33m(\u001b[0m\u001b[1;36m50\u001b[0m\u001b[1;33m)\u001b[0m\u001b[1;33m\u001b[0m\u001b[1;33m\u001b[0m\u001b[0m\n\u001b[0m\u001b[0;32m      2\u001b[0m \u001b[0mtop_budget\u001b[0m\u001b[1;33m\u001b[0m\u001b[1;33m\u001b[0m\u001b[0m\n",
      "\u001b[1;31mNameError\u001b[0m: name 'df' is not defined"
     ]
    }
   ],
   "source": [
    "top_budget = df.sort_values('Budget',ascending=False).head(50)\n",
    "top_budget"
   ]
  },
  {
   "cell_type": "code",
   "execution_count": null,
   "id": "rough-triple",
   "metadata": {},
   "outputs": [],
   "source": []
  },
  {
   "cell_type": "code",
   "execution_count": null,
   "id": "limiting-groove",
   "metadata": {},
   "outputs": [],
   "source": []
  },
  {
   "cell_type": "markdown",
   "id": "tutorial-sociology",
   "metadata": {},
   "source": [
    "### 11.Courbe des vues en fonctions des années"
   ]
  },
  {
   "cell_type": "code",
   "execution_count": null,
   "id": "nervous-corporation",
   "metadata": {},
   "outputs": [],
   "source": [
    "import matplotlib.pyplot as plt\n",
    "\n",
    "plt.bar(df[\"Nmbre_review\"],df[\"Date_sortie\"],align='center') # A bar chart\n",
    "plt.xlabel('Vue')\n",
    "plt.ylabel('Année')\n",
    "for i in range(len(df[\"Date_sortie\"])):\n",
    "    plt.hlines(df[\"Date_sortie\"],0,df[\"Nmbre_review\"]) # Here you are drawing the horizontal lines\n",
    "plt.show()"
   ]
  },
  {
   "cell_type": "markdown",
   "id": "secondary-airfare",
   "metadata": {},
   "source": [
    "### 10. Top cinq des meilleurs review"
   ]
  },
  {
   "cell_type": "code",
   "execution_count": null,
   "id": "stainless-assurance",
   "metadata": {},
   "outputs": [],
   "source": [
    "top_review = df.sort_values('Nmbre_review',ascending=False).head(5)\n",
    "top_review"
   ]
  },
  {
   "cell_type": "markdown",
   "id": "municipal-pursuit",
   "metadata": {},
   "source": [
    "### 7. Top 10 des films par retour sur investissement"
   ]
  },
  {
   "cell_type": "code",
   "execution_count": null,
   "id": "ambient-tourism",
   "metadata": {},
   "outputs": [],
   "source": [
    "top_cwg = df[\"Budget\"] - df[\"Cwg\"].sort_values(ascending=False).head(10)\n",
    "top_cwg"
   ]
  },
  {
   "cell_type": "markdown",
   "id": "ruled-capital",
   "metadata": {},
   "source": [
    "### 4. Top 20 films ayant générés le plus de revenu, le moins de revenu."
   ]
  },
  {
   "cell_type": "code",
   "execution_count": null,
   "id": "developed-forwarding",
   "metadata": {},
   "outputs": [],
   "source": [
    "top_plus = df.sort_values('Gross_USA',ascending=False).head(20)\n",
    "top_moins = df.sort_values('Gross_USA',ascending=True).head(20)\n",
    "\n",
    "print(top_plus)\n",
    "print(top_moins)"
   ]
  },
  {
   "cell_type": "markdown",
   "id": "atomic-spice",
   "metadata": {},
   "source": [
    "### 1. Distribution des films par catégorie"
   ]
  },
  {
   "cell_type": "code",
   "execution_count": null,
   "id": "experimental-magic",
   "metadata": {},
   "outputs": [],
   "source": [
    "df.group_by('Type_film').sum()"
   ]
  },
  {
   "cell_type": "markdown",
   "id": "controversial-impossible",
   "metadata": {},
   "source": [
    "### 3. Nombre de films sortie par décennie "
   ]
  },
  {
   "cell_type": "code",
   "execution_count": null,
   "id": "intimate-costume",
   "metadata": {},
   "outputs": [],
   "source": []
  },
  {
   "cell_type": "markdown",
   "id": "straight-arnold",
   "metadata": {},
   "source": [
    "### 5. Analyse de la popularité des films en fonction de leurs budgets"
   ]
  },
  {
   "cell_type": "code",
   "execution_count": null,
   "id": "surrounded-relaxation",
   "metadata": {},
   "outputs": [],
   "source": [
    "df.group_by('Budget')['Nmbre_review'].sum()"
   ]
  },
  {
   "cell_type": "markdown",
   "id": "white-apache",
   "metadata": {},
   "source": [
    "### 6. Distribution des revenus générés par genre de film"
   ]
  },
  {
   "cell_type": "code",
   "execution_count": null,
   "id": "cellular-washer",
   "metadata": {},
   "outputs": [],
   "source": [
    "df.group_by('Type_film')['Gross_USA'].sum()"
   ]
  },
  {
   "cell_type": "markdown",
   "id": "noticed-negotiation",
   "metadata": {},
   "source": [
    "### 8. Note moyenne par année de sortie de film"
   ]
  },
  {
   "cell_type": "code",
   "execution_count": null,
   "id": "digital-continent",
   "metadata": {},
   "outputs": [],
   "source": [
    "df.group_by('Date_sortie')['Note_film'].mean()"
   ]
  },
  {
   "cell_type": "markdown",
   "id": "independent-designation",
   "metadata": {},
   "source": [
    "### 9. Films ayant le même scenariste"
   ]
  },
  {
   "cell_type": "code",
   "execution_count": null,
   "id": "russian-apple",
   "metadata": {},
   "outputs": [],
   "source": []
  }
 ],
 "metadata": {
  "kernelspec": {
   "display_name": "Python 3",
   "language": "python",
   "name": "python3"
  },
  "language_info": {
   "codemirror_mode": {
    "name": "ipython",
    "version": 3
   },
   "file_extension": ".py",
   "mimetype": "text/x-python",
   "name": "python",
   "nbconvert_exporter": "python",
   "pygments_lexer": "ipython3",
   "version": "3.7.9"
  }
 },
 "nbformat": 4,
 "nbformat_minor": 5
}
